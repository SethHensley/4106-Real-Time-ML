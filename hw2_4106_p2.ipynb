{
 "cells": [
  {
   "cell_type": "code",
   "execution_count": 1,
   "id": "cecc0ff6-f3ec-40ce-8bb9-4e07c83c8d6f",
   "metadata": {},
   "outputs": [],
   "source": [
    "#seth hensley\n",
    "#801055921\n",
    "#problem 2\n",
    "\n",
    "import tensorflow as tf\n",
    "import keras \n",
    "import numpy as np\n",
    "import matplotlib.pyplot as plt\n",
    "from sklearn.model_selection import train_test_split\n",
    "#attempting to write lanet from class with tf inclding the changes the hw calls for \n",
    "\n",
    "\n",
    "def build_lanet():\n",
    "    model = tf.keras.Sequential([\n",
    "        tf.keras.Input(shape = (28,28,1)),\n",
    "        keras.layers.Conv2D(6, 6, padding = \"same\"),\n",
    "        keras.layers.MaxPool2D(2, strides = 2),\n",
    "        keras.layers.Conv2D(12, 6),\n",
    "        keras.layers.Activation(\"relu\"),\n",
    "  \n",
    "        keras.layers.MaxPool2D(2, strides = 2),\n",
    "        keras.layers.Flatten(),\n",
    "        keras.layers.Dense(120),\n",
    "        keras.layers.Activation(\"relu\"),\n",
    "        keras.layers.Dense(84),\n",
    "        keras.layers.Activation(\"relu\"),\n",
    "        keras.layers.Dense(128),\n",
    "        keras.layers.Activation(\"relu\"),\n",
    "        keras.layers.Dense(42),\n",
    "        keras.layers.Activation(\"relu\"),\n",
    "        keras.layers.Dense(10)       \n",
    "        \n",
    "        \n",
    "    ])\n",
    "    \n",
    "    \n",
    "    return model\n",
    "\n",
    "#changing the conv window from 6 to 3 slightly improved accuracy but required a little more training \n",
    "#trying 2\n",
    "#kind of same reslut acc only hit 90 for 2 out of 15 epochs \n",
    "#tring something else\n",
    "#doubling the filter on each non dense layer but putting the conv window back to 6\n",
    "#results: doubled training time, other than that no real improvement maybe slightly worse \n",
    "#now doubling both dense and conv filters\n",
    "#not much change pro needs to train for longer tbh\n",
    "#\n",
    "#added one more conv and activation layer same as second conv layer\n",
    "#i think it was worse but it may need more epochs upped epochs to 25 to test again\n",
    "#meh more epochs not much improvement may lead to overfitting if lots of layers are added \n",
    "#gonna add one more conv and activattion layer\n",
    "#added same padding to both layers also one layer is a 12 filter the other is 24\n",
    "#not bad not great\n",
    "#\n",
    "#added one dense layer with a 42 input\n",
    "#made the model more consistent \n",
    "#adding another with more 128 after first\n",
    "#pretty much same result \n",
    "#\n",
    "#idk how to change learning rate in tf\n",
    "\n"
   ]
  },
  {
   "cell_type": "code",
   "execution_count": 2,
   "id": "60241663-cec5-4973-8f38-e4403e8e5e32",
   "metadata": {},
   "outputs": [
    {
     "name": "stdout",
     "output_type": "stream",
     "text": [
      "xtrain shape: (60000, 28, 28) ytrain shape: (60000,)\n"
     ]
    }
   ],
   "source": [
    "(xtrain,ytrain),(xtest,ytest) = keras.datasets.fashion_mnist.load_data()\n",
    "print(\"xtrain shape:\", xtrain.shape, \"ytrain shape:\", ytrain.shape)\n"
   ]
  },
  {
   "cell_type": "code",
   "execution_count": 3,
   "id": "94d7e6cf-cc7b-444c-bc10-fad0e5cc7bc0",
   "metadata": {},
   "outputs": [],
   "source": [
    "modelPart1 = build_lanet()\n",
    "\n"
   ]
  },
  {
   "cell_type": "code",
   "execution_count": 4,
   "id": "00b2cebf-b461-41c8-947a-6ba297ed244d",
   "metadata": {},
   "outputs": [
    {
     "name": "stdout",
     "output_type": "stream",
     "text": [
      "Model: \"sequential\"\n",
      "_________________________________________________________________\n",
      " Layer (type)                Output Shape              Param #   \n",
      "=================================================================\n",
      " conv2d (Conv2D)             (None, 28, 28, 6)         222       \n",
      "                                                                 \n",
      " max_pooling2d (MaxPooling2D  (None, 14, 14, 6)        0         \n",
      " )                                                               \n",
      "                                                                 \n",
      " conv2d_1 (Conv2D)           (None, 9, 9, 12)          2604      \n",
      "                                                                 \n",
      " activation (Activation)     (None, 9, 9, 12)          0         \n",
      "                                                                 \n",
      " max_pooling2d_1 (MaxPooling  (None, 4, 4, 12)         0         \n",
      " 2D)                                                             \n",
      "                                                                 \n",
      " flatten (Flatten)           (None, 192)               0         \n",
      "                                                                 \n",
      " dense (Dense)               (None, 120)               23160     \n",
      "                                                                 \n",
      " activation_1 (Activation)   (None, 120)               0         \n",
      "                                                                 \n",
      " dense_1 (Dense)             (None, 84)                10164     \n",
      "                                                                 \n",
      " activation_2 (Activation)   (None, 84)                0         \n",
      "                                                                 \n",
      " dense_2 (Dense)             (None, 128)               10880     \n",
      "                                                                 \n",
      " activation_3 (Activation)   (None, 128)               0         \n",
      "                                                                 \n",
      " dense_3 (Dense)             (None, 42)                5418      \n",
      "                                                                 \n",
      " activation_4 (Activation)   (None, 42)                0         \n",
      "                                                                 \n",
      " dense_4 (Dense)             (None, 10)                430       \n",
      "                                                                 \n",
      "=================================================================\n",
      "Total params: 52,878\n",
      "Trainable params: 52,878\n",
      "Non-trainable params: 0\n",
      "_________________________________________________________________\n"
     ]
    }
   ],
   "source": [
    "modelPart1.compile(optimizer=\"adam\", loss = tf.keras.losses.SparseCategoricalCrossentropy(from_logits= True), metrics=[\"accuracy\"])\n",
    "modelPart1.summary()\n",
    "\n",
    "\n"
   ]
  },
  {
   "cell_type": "code",
   "execution_count": 5,
   "id": "ee9b1b57-1d99-493a-a000-175c823a0fbb",
   "metadata": {},
   "outputs": [
    {
     "name": "stdout",
     "output_type": "stream",
     "text": [
      "Epoch 1/25\n",
      "1875/1875 [==============================] - 14s 7ms/step - loss: 0.6077 - accuracy: 0.7913 - val_loss: 0.4851 - val_accuracy: 0.8235\n",
      "Epoch 2/25\n",
      "1875/1875 [==============================] - 12s 7ms/step - loss: 0.4194 - accuracy: 0.8483 - val_loss: 0.4318 - val_accuracy: 0.8473\n",
      "Epoch 3/25\n",
      "1875/1875 [==============================] - 12s 7ms/step - loss: 0.3754 - accuracy: 0.8654 - val_loss: 0.4169 - val_accuracy: 0.8511\n",
      "Epoch 4/25\n",
      "1875/1875 [==============================] - 13s 7ms/step - loss: 0.3496 - accuracy: 0.8732 - val_loss: 0.4107 - val_accuracy: 0.8550\n",
      "Epoch 5/25\n",
      "1875/1875 [==============================] - 13s 7ms/step - loss: 0.3328 - accuracy: 0.8801 - val_loss: 0.3485 - val_accuracy: 0.8766\n",
      "Epoch 6/25\n",
      "1875/1875 [==============================] - 13s 7ms/step - loss: 0.3177 - accuracy: 0.8847 - val_loss: 0.3823 - val_accuracy: 0.8682\n",
      "Epoch 7/25\n",
      "1875/1875 [==============================] - 13s 7ms/step - loss: 0.3079 - accuracy: 0.8884 - val_loss: 0.3509 - val_accuracy: 0.8745\n",
      "Epoch 8/25\n",
      "1875/1875 [==============================] - 13s 7ms/step - loss: 0.2932 - accuracy: 0.8934 - val_loss: 0.3815 - val_accuracy: 0.8676\n",
      "Epoch 9/25\n",
      "1875/1875 [==============================] - 13s 7ms/step - loss: 0.2854 - accuracy: 0.8942 - val_loss: 0.3378 - val_accuracy: 0.8832\n",
      "Epoch 10/25\n",
      "1875/1875 [==============================] - 13s 7ms/step - loss: 0.2799 - accuracy: 0.8976 - val_loss: 0.3557 - val_accuracy: 0.8769\n",
      "Epoch 11/25\n",
      "1875/1875 [==============================] - 13s 7ms/step - loss: 0.2732 - accuracy: 0.9001 - val_loss: 0.3487 - val_accuracy: 0.8850\n",
      "Epoch 12/25\n",
      "1875/1875 [==============================] - 13s 7ms/step - loss: 0.2661 - accuracy: 0.9018 - val_loss: 0.3405 - val_accuracy: 0.8813\n",
      "Epoch 13/25\n",
      "1875/1875 [==============================] - 13s 7ms/step - loss: 0.2641 - accuracy: 0.9036 - val_loss: 0.3530 - val_accuracy: 0.8823\n",
      "Epoch 14/25\n",
      "1875/1875 [==============================] - 13s 7ms/step - loss: 0.2570 - accuracy: 0.9060 - val_loss: 0.4073 - val_accuracy: 0.8719\n",
      "Epoch 15/25\n",
      "1875/1875 [==============================] - 13s 7ms/step - loss: 0.2522 - accuracy: 0.9081 - val_loss: 0.3792 - val_accuracy: 0.8830\n",
      "Epoch 16/25\n",
      "1875/1875 [==============================] - 13s 7ms/step - loss: 0.2457 - accuracy: 0.9105 - val_loss: 0.3883 - val_accuracy: 0.8835\n",
      "Epoch 17/25\n",
      "1875/1875 [==============================] - 13s 7ms/step - loss: 0.2461 - accuracy: 0.9108 - val_loss: 0.3984 - val_accuracy: 0.8747\n",
      "Epoch 18/25\n",
      "1875/1875 [==============================] - 13s 7ms/step - loss: 0.2375 - accuracy: 0.9131 - val_loss: 0.3674 - val_accuracy: 0.8822\n",
      "Epoch 19/25\n",
      "1875/1875 [==============================] - 13s 7ms/step - loss: 0.2374 - accuracy: 0.9125 - val_loss: 0.3575 - val_accuracy: 0.8870\n",
      "Epoch 20/25\n",
      "1875/1875 [==============================] - 13s 7ms/step - loss: 0.2352 - accuracy: 0.9153 - val_loss: 0.4230 - val_accuracy: 0.8761\n",
      "Epoch 21/25\n",
      "1875/1875 [==============================] - 13s 7ms/step - loss: 0.2274 - accuracy: 0.9163 - val_loss: 0.3989 - val_accuracy: 0.8788\n",
      "Epoch 22/25\n",
      "1875/1875 [==============================] - 13s 7ms/step - loss: 0.2259 - accuracy: 0.9170 - val_loss: 0.3817 - val_accuracy: 0.8820\n",
      "Epoch 23/25\n",
      "1875/1875 [==============================] - 13s 7ms/step - loss: 0.2216 - accuracy: 0.9182 - val_loss: 0.3793 - val_accuracy: 0.8815\n",
      "Epoch 24/25\n",
      "1875/1875 [==============================] - 13s 7ms/step - loss: 0.2263 - accuracy: 0.9178 - val_loss: 0.3628 - val_accuracy: 0.8873\n",
      "Epoch 25/25\n",
      "1875/1875 [==============================] - 13s 7ms/step - loss: 0.2172 - accuracy: 0.9190 - val_loss: 0.3750 - val_accuracy: 0.8870\n"
     ]
    },
    {
     "data": {
      "text/plain": [
       "<keras.callbacks.History at 0x1b97fb82b50>"
      ]
     },
     "execution_count": 5,
     "metadata": {},
     "output_type": "execute_result"
    }
   ],
   "source": [
    "modelPart1.fit(xtrain,ytrain,validation_data=(xtest,ytest),epochs=25)"
   ]
  },
  {
   "cell_type": "code",
   "execution_count": null,
   "id": "def4da59-e4bd-4381-9b83-1eadd5aeb72c",
   "metadata": {},
   "outputs": [],
   "source": []
  },
  {
   "cell_type": "code",
   "execution_count": null,
   "id": "ab77bf6a-6a97-4e5d-bbc0-0a679b402442",
   "metadata": {},
   "outputs": [],
   "source": []
  }
 ],
 "metadata": {
  "kernelspec": {
   "display_name": "Python 3 (ipykernel)",
   "language": "python",
   "name": "python3"
  },
  "language_info": {
   "codemirror_mode": {
    "name": "ipython",
    "version": 3
   },
   "file_extension": ".py",
   "mimetype": "text/x-python",
   "name": "python",
   "nbconvert_exporter": "python",
   "pygments_lexer": "ipython3",
   "version": "3.9.12"
  }
 },
 "nbformat": 4,
 "nbformat_minor": 5
}
