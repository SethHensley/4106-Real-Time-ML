{
  "nbformat": 4,
  "nbformat_minor": 0,
  "metadata": {
    "colab": {
      "provenance": []
    },
    "kernelspec": {
      "name": "python3",
      "display_name": "Python 3"
    },
    "language_info": {
      "name": "python"
    },
    "accelerator": "GPU",
    "gpuClass": "standard"
  },
  "cells": [
    {
      "cell_type": "code",
      "execution_count": 1,
      "metadata": {
        "id": "44n9er8BB0PQ"
      },
      "outputs": [],
      "source": [
        "#Seth Hensley\n",
        "#801055921\n",
        "#Homework 3\n",
        "\n",
        "import tensorflow as tf\n",
        "import keras \n",
        "import numpy as np \n",
        "import matplotlib.pyplot as plt\n",
        "\n",
        "(xtrain, ytrain), (xtest, ytest)= tf.keras.datasets.cifar10.load_data()"
      ]
    },
    {
      "cell_type": "code",
      "source": [
        "xtrain=tf.image.resize(xtrain,(64,64))\n",
        "xtest=tf.image.resize(xtest,(64,64))\n",
        "\n",
        "\n",
        "xtrain = xtrain/255.0\n",
        "\n",
        "#ytrain = ytrain/255.0\n",
        "\n",
        "xtest = xtest/255.0\n",
        "\n",
        "#ytest = ytest/255.0\n",
        "\n",
        "plt.imshow(xtrain[42069,:,:],cmap='Greys')"
      ],
      "metadata": {
        "colab": {
          "base_uri": "https://localhost:8080/",
          "height": 285
        },
        "id": "e-AvclZdB_9W",
        "outputId": "5def65af-f4c2-4366-8ccc-a71b63fb5726"
      },
      "execution_count": 2,
      "outputs": [
        {
          "output_type": "execute_result",
          "data": {
            "text/plain": [
              "<matplotlib.image.AxesImage at 0x7f2fbc219430>"
            ]
          },
          "metadata": {},
          "execution_count": 2
        },
        {
          "output_type": "display_data",
          "data": {
            "text/plain": [
              "<Figure size 432x288 with 1 Axes>"
            ],
            "image/png": "[encoded data removed]"
          },
          "metadata": {
            "needs_background": "light"
          }
        }
      ]
    },
    {
      "cell_type": "code",
      "source": [
        "def inception(input, c1,c2,c3,c4):\n",
        "\n",
        "  #branch 1\n",
        "  b1 = keras.layers.Conv2D(c1,kernel_size = (1,1), activation = \"relu\")(input)\n",
        "\n",
        "  #branch 2\n",
        "  b2= keras.layers.Conv2D(c2[0],kernel_size = (1,1), activation = \"relu\")(input)\n",
        "  b2= keras.layers.Conv2D(c2[1],kernel_size = (3,3), padding =\"same\", activation = \"relu\")(b2)\n",
        "\n",
        "  #branch 3\n",
        "  b3= keras.layers.Conv2D(c3[0],kernel_size = (1,1), activation = \"relu\")(input)\n",
        "  b3= keras.layers.Conv2D(c3[1],kernel_size = (5,5), padding =\"same\", activation = \"relu\")(b3)\n",
        "\n",
        "  #branch 4 \n",
        "  b4= keras.layers.MaxPooling2D((3,3), strides = (1,1), padding =\"same\")(input)\n",
        "  b4= keras.layers.Conv2D(c4,kernel_size = (1,1), activation = \"relu\")(b4)\n",
        "  \n",
        "  branchConcat = tf.keras.layers.concatenate([b1,b2,b3,b4], axis = -1 )\n",
        "\n",
        "\n",
        "  return branchConcat\n",
        "\n"
      ],
      "metadata": {
        "id": "lSWeYxJHCB2d"
      },
      "execution_count": 3,
      "outputs": []
    },
    {
      "cell_type": "code",
      "source": [
        "def b1():\n",
        "  inShape = tf.keras.Input(shape =(64,64,3))\n",
        "  model = keras.layers.Conv2D(64, kernel_size=7, strides = 2, activation=\"relu\")(inShape)\n",
        "  model = keras.layers.MaxPool2D(3, strides=2, padding=\"same\")(model)\n",
        "\n",
        "  return model\n",
        "\n",
        "def b2(model):\n",
        "  inShape = tf.keras.Input(shape =(64,64,3))\n",
        "  model = keras.layers.Conv2D(64, kernel_size=1, activation=\"relu\")(inShape)\n",
        "  model = keras.layers.Conv2D(192, 3, padding = \"same\",activation = \"relu\")(model)\n",
        "  model = keras.layers.MaxPool2D(3, strides=2, padding=\"same\")(model)\n",
        "\n",
        "  return model\n",
        "\n",
        "def b3(model):\n",
        "  model = inception(model,64,(96,128),(16,32),32)\n",
        "  model = inception(model,128,(128,192),(32,96),64)\n",
        "  model = keras.layers.MaxPool2D(3,2,padding=\"same\")\n",
        "\n",
        "  return model\n",
        "\n",
        "def b4(model):\n",
        "  model = inception(model,192,(96,208),(16,48),64)\n",
        "  model = inception(model,160,(112,224),(24,64),64)\n",
        "  model = inception(model,128,(128,256),(24,64),64)\n",
        "  model = inception(model,112,(144,288),(32,64),64)\n",
        "  model = inception(model,256,(160,320),(32,128),128)\n",
        "  model = keras.layers.MaxPool2D(3,2,padding=\"same\")\n",
        "\n",
        "  return model\n",
        "\n",
        "def b5(model):\n",
        "  model = inception(model,256,(160,320),(32,128),128)\n",
        "  model = inception(model,384,(192,384),(48,128),128)\n",
        "  model = keras.layers.GlobalAveragePooling2D()(model)\n",
        "  return model\n",
        "\n",
        "\n"
      ],
      "metadata": {
        "id": "fkS3rNNC9gin"
      },
      "execution_count": 4,
      "outputs": []
    },
    {
      "cell_type": "code",
      "source": [
        "def googleNet():\n",
        "  inShape = tf.keras.Input(shape =(64,64,3))\n",
        "  model = keras.layers.Conv2D(64, kernel_size=7, strides = 2, activation=\"relu\")(inShape)\n",
        "  model = keras.layers.BatchNormalization()(model)\n",
        "  model = keras.layers.MaxPool2D(3, strides=2, padding=\"same\")(model)\n",
        "\n",
        "  model = keras.layers.Conv2D(64, kernel_size=1, activation=\"relu\")(model)\n",
        "  model = keras.layers.Conv2D(192, 3, padding = \"same\",activation = \"relu\")(model)\n",
        "  model = keras.layers.BatchNormalization()(model)\n",
        "  model = keras.layers.MaxPooling2D(3, strides=2, padding=\"same\")(model)\n",
        "\n",
        "  model = inception(model,64,(96,128),(16,32),32)\n",
        "  model = inception(model,128,(128,192),(32,96),64)\n",
        "  #model = keras.layers.MaxPooling2D(3,2,padding=\"same\")\n",
        "\n",
        "  model1 = keras.layers.Conv2D(filters = 128, kernel_size = (1,1), padding = 'same', activation = 'relu')(model)\n",
        "  model1 = keras.layers.BatchNormalization()(model1)\n",
        "  model1 = keras.layers.Flatten()(model1)\n",
        "  model1 = keras.layers.Dense(1024, activation = 'relu')(model1)\n",
        "  model1 = keras.layers.Dense(10, activation = 'softmax')(model1)\n",
        "\n",
        "  model = inception(model,192,(96,208),(16,48),64)\n",
        "  model = inception(model,160,(112,224),(24,64),64)\n",
        "  model = inception(model,128,(128,256),(24,64),64)\n",
        "  model = inception(model,112,(144,288),(32,64),64)\n",
        "  model = inception(model,256,(160,320),(32,128),128)\n",
        "  #model = keras.layers.MaxPooling2D(3,2,padding=\"same\")\n",
        "\n",
        "  model2 = keras.layers.Conv2D(filters = 128, kernel_size = (1,1), padding = 'same', activation = 'relu')(model)\n",
        "  model2 = keras.layers.BatchNormalization()(model2)\n",
        "  model2 = keras.layers.Flatten()(model2)\n",
        "  model2 = keras.layers.Dense(1024, activation = 'relu')(model2)\n",
        "  model2 = keras.layers.Dense(10, activation = 'softmax')(model2)\n",
        "\n",
        "  model = inception(model,256,(160,320),(32,128),128)\n",
        "  model = inception(model,384,(192,384),(48,128),128)\n",
        "  model = keras.layers.GlobalAveragePooling2D()(model)\n",
        "\n",
        "  model = keras.models.Model(inShape, [model,model1,model2], name= \"googleNet\")\n",
        "\n",
        "  return model"
      ],
      "metadata": {
        "id": "1FZJkE5ZF5ur"
      },
      "execution_count": 5,
      "outputs": []
    },
    {
      "cell_type": "code",
      "source": [
        "googleModel = googleNet()\n"
      ],
      "metadata": {
        "id": "Xoy60ATtCXjs"
      },
      "execution_count": 6,
      "outputs": []
    },
    {
      "cell_type": "code",
      "source": [
        "\n",
        "googleModel.compile(optimizer=\"adam\", loss = tf.keras.losses.SparseCategoricalCrossentropy(from_logits= True), metrics=[\"accuracy\"])\n",
        "#googleModel.summary()"
      ],
      "metadata": {
        "id": "kFJ4Uchg8T8E"
      },
      "execution_count": 7,
      "outputs": []
    },
    {
      "cell_type": "code",
      "source": [
        "googleModel.fit(xtrain,ytrain,validation_data=(xtest,ytest),epochs=10)"
      ],
      "metadata": {
        "colab": {
          "base_uri": "https://localhost:8080/",
          "height": 0
        },
        "id": "e1ivUdyq9YbR",
        "outputId": "a56f21d2-8470-4f93-9d27-884ab28a96c4"
      },
      "execution_count": 8,
      "outputs": [
        {
          "output_type": "stream",
          "name": "stdout",
          "text": [
            "Epoch 1/10\n"
          ]
        },
        {
          "output_type": "stream",
          "name": "stderr",
          "text": [
            "/usr/local/lib/python3.9/dist-packages/keras/backend.py:5585: UserWarning: \"`sparse_categorical_crossentropy` received `from_logits=True`, but the `output` argument was produced by a Softmax activation and thus does not represent logits. Was this intended?\n",
            "  output, from_logits = _get_logits(\n"
          ]
        },
        {
          "output_type": "stream",
          "name": "stdout",
          "text": [
            "1563/1563 [==============================] - 103s 48ms/step - loss: 4.4746 - global_average_pooling2d_loss: 1.6688 - dense_1_loss: 1.3308 - dense_3_loss: 1.4750 - global_average_pooling2d_accuracy: 0.4020 - dense_1_accuracy: 0.5312 - dense_3_accuracy: 0.4673 - val_loss: 4.5631 - val_global_average_pooling2d_loss: 1.5989 - val_dense_1_loss: 1.4720 - val_dense_3_loss: 1.4923 - val_global_average_pooling2d_accuracy: 0.4271 - val_dense_1_accuracy: 0.5020 - val_dense_3_accuracy: 0.4886\n",
            "Epoch 2/10\n",
            "1563/1563 [==============================] - 72s 46ms/step - loss: 2.9938 - global_average_pooling2d_loss: 1.0919 - dense_1_loss: 0.8990 - dense_3_loss: 1.0029 - global_average_pooling2d_accuracy: 0.6108 - dense_1_accuracy: 0.6835 - dense_3_accuracy: 0.6465 - val_loss: 3.5242 - val_global_average_pooling2d_loss: 1.3029 - val_dense_1_loss: 1.0163 - val_dense_3_loss: 1.2049 - val_global_average_pooling2d_accuracy: 0.5787 - val_dense_1_accuracy: 0.6586 - val_dense_3_accuracy: 0.6177\n",
            "Epoch 3/10\n",
            "1563/1563 [==============================] - 72s 46ms/step - loss: 2.4167 - global_average_pooling2d_loss: 0.8745 - dense_1_loss: 0.7240 - dense_3_loss: 0.8182 - global_average_pooling2d_accuracy: 0.6955 - dense_1_accuracy: 0.7482 - dense_3_accuracy: 0.7172 - val_loss: 2.8931 - val_global_average_pooling2d_loss: 1.0679 - val_dense_1_loss: 0.8497 - val_dense_3_loss: 0.9755 - val_global_average_pooling2d_accuracy: 0.6419 - val_dense_1_accuracy: 0.7130 - val_dense_3_accuracy: 0.6665\n",
            "Epoch 4/10\n",
            "1563/1563 [==============================] - 73s 46ms/step - loss: 2.0194 - global_average_pooling2d_loss: 0.7339 - dense_1_loss: 0.5948 - dense_3_loss: 0.6908 - global_average_pooling2d_accuracy: 0.7464 - dense_1_accuracy: 0.7928 - dense_3_accuracy: 0.7601 - val_loss: 2.5360 - val_global_average_pooling2d_loss: 0.8344 - val_dense_1_loss: 0.8580 - val_dense_3_loss: 0.8436 - val_global_average_pooling2d_accuracy: 0.7140 - val_dense_1_accuracy: 0.7289 - val_dense_3_accuracy: 0.7134\n",
            "Epoch 5/10\n",
            "1563/1563 [==============================] - 71s 46ms/step - loss: 1.7344 - global_average_pooling2d_loss: 0.6411 - dense_1_loss: 0.4944 - dense_3_loss: 0.5989 - global_average_pooling2d_accuracy: 0.7785 - dense_1_accuracy: 0.8282 - dense_3_accuracy: 0.7933 - val_loss: 2.7919 - val_global_average_pooling2d_loss: 0.9256 - val_dense_1_loss: 0.8586 - val_dense_3_loss: 1.0078 - val_global_average_pooling2d_accuracy: 0.6866 - val_dense_1_accuracy: 0.7159 - val_dense_3_accuracy: 0.6733\n",
            "Epoch 6/10\n",
            "1563/1563 [==============================] - 72s 46ms/step - loss: 1.4802 - global_average_pooling2d_loss: 0.5598 - dense_1_loss: 0.4001 - dense_3_loss: 0.5203 - global_average_pooling2d_accuracy: 0.8080 - dense_1_accuracy: 0.8606 - dense_3_accuracy: 0.8221 - val_loss: 2.3142 - val_global_average_pooling2d_loss: 0.7925 - val_dense_1_loss: 0.7512 - val_dense_3_loss: 0.7706 - val_global_average_pooling2d_accuracy: 0.7467 - val_dense_1_accuracy: 0.7708 - val_dense_3_accuracy: 0.7589\n",
            "Epoch 7/10\n",
            "1563/1563 [==============================] - 72s 46ms/step - loss: 1.2919 - global_average_pooling2d_loss: 0.5039 - dense_1_loss: 0.3288 - dense_3_loss: 0.4592 - global_average_pooling2d_accuracy: 0.8282 - dense_1_accuracy: 0.8862 - dense_3_accuracy: 0.8429 - val_loss: 2.6077 - val_global_average_pooling2d_loss: 0.8635 - val_dense_1_loss: 0.8726 - val_dense_3_loss: 0.8716 - val_global_average_pooling2d_accuracy: 0.7215 - val_dense_1_accuracy: 0.7457 - val_dense_3_accuracy: 0.7304\n",
            "Epoch 8/10\n",
            "1563/1563 [==============================] - 71s 45ms/step - loss: 1.0977 - global_average_pooling2d_loss: 0.4434 - dense_1_loss: 0.2536 - dense_3_loss: 0.4007 - global_average_pooling2d_accuracy: 0.8477 - dense_1_accuracy: 0.9134 - dense_3_accuracy: 0.8615 - val_loss: 2.1797 - val_global_average_pooling2d_loss: 0.6970 - val_dense_1_loss: 0.7851 - val_dense_3_loss: 0.6976 - val_global_average_pooling2d_accuracy: 0.7790 - val_dense_1_accuracy: 0.7807 - val_dense_3_accuracy: 0.7827\n",
            "Epoch 9/10\n",
            "1563/1563 [==============================] - 73s 46ms/step - loss: 0.9447 - global_average_pooling2d_loss: 0.3938 - dense_1_loss: 0.2012 - dense_3_loss: 0.3497 - global_average_pooling2d_accuracy: 0.8658 - dense_1_accuracy: 0.9301 - dense_3_accuracy: 0.8802 - val_loss: 2.7548 - val_global_average_pooling2d_loss: 0.8270 - val_dense_1_loss: 0.9794 - val_dense_3_loss: 0.9484 - val_global_average_pooling2d_accuracy: 0.7541 - val_dense_1_accuracy: 0.7656 - val_dense_3_accuracy: 0.7450\n",
            "Epoch 10/10\n",
            "1563/1563 [==============================] - 73s 47ms/step - loss: 0.8213 - global_average_pooling2d_loss: 0.3537 - dense_1_loss: 0.1622 - dense_3_loss: 0.3055 - global_average_pooling2d_accuracy: 0.8784 - dense_1_accuracy: 0.9435 - dense_3_accuracy: 0.8942 - val_loss: 3.2796 - val_global_average_pooling2d_loss: 0.9389 - val_dense_1_loss: 1.3551 - val_dense_3_loss: 0.9856 - val_global_average_pooling2d_accuracy: 0.7239 - val_dense_1_accuracy: 0.7258 - val_dense_3_accuracy: 0.7282\n"
          ]
        },
        {
          "output_type": "execute_result",
          "data": {
            "text/plain": [
              "<keras.callbacks.History at 0x7f2fbd1c8250>"
            ]
          },
          "metadata": {},
          "execution_count": 8
        }
      ]
    },
    {
      "cell_type": "code",
      "source": [],
      "metadata": {
        "id": "9fTd0pn0MXxT"
      },
      "execution_count": null,
      "outputs": []
    }
  ]
}