{
 "cells": [
  {
   "cell_type": "code",
   "execution_count": 24,
   "id": "b02bbf98-0b3b-4cda-b685-40e470e1a783",
   "metadata": {},
   "outputs": [],
   "source": [
    "#seth hensley\n",
    "#801055921\n",
    "#problem 1\n",
    "import tensorflow as tf\n",
    "import keras \n",
    "import numpy as np\n",
    "import matplotlib.pyplot as plt\n",
    "from sklearn.model_selection import train_test_split\n",
    "#attempting to write lanet from class with tf inclding the changes the hw calls for \n",
    "\n",
    "\n",
    "def build_lanet():\n",
    "    model = tf.keras.Sequential([\n",
    "        tf.keras.Input(shape = (28,28,1)),\n",
    "        keras.layers.Conv2D(6, 5, padding = \"same\"),\n",
    "        keras.layers.MaxPool2D(2, strides = 2),\n",
    "        keras.layers.Conv2D(16, 5),\n",
    "        keras.layers.Activation(\"relu\"),\n",
    "        keras.layers.MaxPool2D(2, strides = 2),\n",
    "        keras.layers.Flatten(),\n",
    "        keras.layers.Dense(120),\n",
    "        keras.layers.Activation(\"relu\"),\n",
    "        keras.layers.Dense(84),\n",
    "        keras.layers.Activation(\"relu\"),\n",
    "        keras.layers.Dense(10)       \n",
    "        \n",
    "        \n",
    "    ])\n",
    "    \n",
    "    \n",
    "    return model\n",
    "\n",
    "\n",
    "\n"
   ]
  },
  {
   "cell_type": "code",
   "execution_count": 25,
   "id": "daaa31af-6c64-488a-8468-ba093051a73b",
   "metadata": {},
   "outputs": [
    {
     "name": "stdout",
     "output_type": "stream",
     "text": [
      "xtrain shape: (60000, 28, 28) ytrain shape: (60000,)\n"
     ]
    }
   ],
   "source": [
    "(xtrain,ytrain),(xtest,ytest) = keras.datasets.fashion_mnist.load_data()\n",
    "print(\"xtrain shape:\", xtrain.shape, \"ytrain shape:\", ytrain.shape)\n"
   ]
  },
  {
   "cell_type": "code",
   "execution_count": 26,
   "id": "dd3680c7-216a-44f1-8aa5-02214839dd6e",
   "metadata": {},
   "outputs": [],
   "source": [
    "modelPart1 = build_lanet()\n",
    "\n"
   ]
  },
  {
   "cell_type": "code",
   "execution_count": 27,
   "id": "3b772793-4e0f-4ba3-8019-48f99d350eec",
   "metadata": {},
   "outputs": [
    {
     "name": "stdout",
     "output_type": "stream",
     "text": [
      "Model: \"sequential_4\"\n",
      "_________________________________________________________________\n",
      " Layer (type)                Output Shape              Param #   \n",
      "=================================================================\n",
      " conv2d_14 (Conv2D)          (None, 28, 28, 6)         156       \n",
      "                                                                 \n",
      " max_pooling2d_11 (MaxPoolin  (None, 14, 14, 6)        0         \n",
      " g2D)                                                            \n",
      "                                                                 \n",
      " conv2d_15 (Conv2D)          (None, 10, 10, 16)        2416      \n",
      "                                                                 \n",
      " activation_13 (Activation)  (None, 10, 10, 16)        0         \n",
      "                                                                 \n",
      " max_pooling2d_12 (MaxPoolin  (None, 5, 5, 16)         0         \n",
      " g2D)                                                            \n",
      "                                                                 \n",
      " flatten_4 (Flatten)         (None, 400)               0         \n",
      "                                                                 \n",
      " dense_12 (Dense)            (None, 120)               48120     \n",
      "                                                                 \n",
      " activation_14 (Activation)  (None, 120)               0         \n",
      "                                                                 \n",
      " dense_13 (Dense)            (None, 84)                10164     \n",
      "                                                                 \n",
      " activation_15 (Activation)  (None, 84)                0         \n",
      "                                                                 \n",
      " dense_14 (Dense)            (None, 10)                850       \n",
      "                                                                 \n",
      "=================================================================\n",
      "Total params: 61,706\n",
      "Trainable params: 61,706\n",
      "Non-trainable params: 0\n",
      "_________________________________________________________________\n"
     ]
    }
   ],
   "source": [
    "modelPart1.compile(optimizer=\"adam\", loss = tf.keras.losses.SparseCategoricalCrossentropy(from_logits= True), metrics=[\"accuracy\"])\n",
    "modelPart1.summary()\n",
    "\n",
    "\n"
   ]
  },
  {
   "cell_type": "code",
   "execution_count": 39,
   "id": "a77fc3da-5f2e-4042-9cdc-31a5f332a4b7",
   "metadata": {},
   "outputs": [
    {
     "name": "stdout",
     "output_type": "stream",
     "text": [
      "Epoch 1/30\n",
      "1875/1875 [==============================] - 13s 7ms/step - loss: 0.2023 - accuracy: 0.9250 - val_loss: 0.3939 - val_accuracy: 0.8830\n",
      "Epoch 2/30\n",
      "1875/1875 [==============================] - 12s 6ms/step - loss: 0.1973 - accuracy: 0.9273 - val_loss: 0.4274 - val_accuracy: 0.8774\n",
      "Epoch 3/30\n",
      "1875/1875 [==============================] - 12s 6ms/step - loss: 0.1937 - accuracy: 0.9286 - val_loss: 0.4149 - val_accuracy: 0.8859\n",
      "Epoch 4/30\n",
      "1875/1875 [==============================] - 12s 6ms/step - loss: 0.1939 - accuracy: 0.9289 - val_loss: 0.4030 - val_accuracy: 0.8823\n",
      "Epoch 5/30\n",
      "1875/1875 [==============================] - 12s 6ms/step - loss: 0.1872 - accuracy: 0.9306 - val_loss: 0.3937 - val_accuracy: 0.8872\n",
      "Epoch 6/30\n",
      "1875/1875 [==============================] - 12s 6ms/step - loss: 0.1767 - accuracy: 0.9334 - val_loss: 0.4358 - val_accuracy: 0.8857\n",
      "Epoch 7/30\n",
      "1875/1875 [==============================] - 12s 6ms/step - loss: 0.1798 - accuracy: 0.9334 - val_loss: 0.4184 - val_accuracy: 0.8874\n",
      "Epoch 8/30\n",
      "1875/1875 [==============================] - 12s 6ms/step - loss: 0.1802 - accuracy: 0.9346 - val_loss: 0.4615 - val_accuracy: 0.8756\n",
      "Epoch 9/30\n",
      "1875/1875 [==============================] - 12s 6ms/step - loss: 0.1753 - accuracy: 0.9367 - val_loss: 0.4269 - val_accuracy: 0.8832\n",
      "Epoch 10/30\n",
      "1875/1875 [==============================] - 12s 6ms/step - loss: 0.1673 - accuracy: 0.9388 - val_loss: 0.4695 - val_accuracy: 0.8800\n",
      "Epoch 11/30\n",
      "1875/1875 [==============================] - 12s 6ms/step - loss: 0.1733 - accuracy: 0.9365 - val_loss: 0.4569 - val_accuracy: 0.8860\n",
      "Epoch 12/30\n",
      "1875/1875 [==============================] - 12s 6ms/step - loss: 0.1594 - accuracy: 0.9419 - val_loss: 0.4990 - val_accuracy: 0.8840\n",
      "Epoch 13/30\n",
      "1875/1875 [==============================] - 12s 6ms/step - loss: 0.1654 - accuracy: 0.9402 - val_loss: 0.5032 - val_accuracy: 0.8817\n",
      "Epoch 14/30\n",
      "1875/1875 [==============================] - 12s 6ms/step - loss: 0.1627 - accuracy: 0.9417 - val_loss: 0.5036 - val_accuracy: 0.8803\n",
      "Epoch 15/30\n",
      "1875/1875 [==============================] - 12s 6ms/step - loss: 0.1673 - accuracy: 0.9406 - val_loss: 0.4617 - val_accuracy: 0.8787\n",
      "Epoch 16/30\n",
      "1875/1875 [==============================] - 12s 6ms/step - loss: 0.1513 - accuracy: 0.9456 - val_loss: 0.4976 - val_accuracy: 0.8873\n",
      "Epoch 17/30\n",
      "1875/1875 [==============================] - 12s 6ms/step - loss: 0.1498 - accuracy: 0.9458 - val_loss: 0.5488 - val_accuracy: 0.8825\n",
      "Epoch 18/30\n",
      "1875/1875 [==============================] - 12s 6ms/step - loss: 0.1560 - accuracy: 0.9449 - val_loss: 0.5347 - val_accuracy: 0.8837\n",
      "Epoch 19/30\n",
      "1875/1875 [==============================] - 12s 7ms/step - loss: 0.1535 - accuracy: 0.9467 - val_loss: 0.5708 - val_accuracy: 0.8791\n",
      "Epoch 20/30\n",
      "1875/1875 [==============================] - 12s 6ms/step - loss: 0.1512 - accuracy: 0.9460 - val_loss: 0.5313 - val_accuracy: 0.8867\n",
      "Epoch 21/30\n",
      "1875/1875 [==============================] - 12s 6ms/step - loss: 0.1457 - accuracy: 0.9490 - val_loss: 0.5432 - val_accuracy: 0.8825\n",
      "Epoch 22/30\n",
      "1875/1875 [==============================] - 12s 6ms/step - loss: 0.1519 - accuracy: 0.9468 - val_loss: 0.5697 - val_accuracy: 0.8862\n",
      "Epoch 23/30\n",
      "1875/1875 [==============================] - 12s 6ms/step - loss: 0.1500 - accuracy: 0.9484 - val_loss: 0.5692 - val_accuracy: 0.8794\n",
      "Epoch 24/30\n",
      "1875/1875 [==============================] - 12s 6ms/step - loss: 0.1364 - accuracy: 0.9517 - val_loss: 0.5654 - val_accuracy: 0.8869\n",
      "Epoch 25/30\n",
      "1875/1875 [==============================] - 12s 7ms/step - loss: 0.1323 - accuracy: 0.9540 - val_loss: 0.6068 - val_accuracy: 0.8771\n",
      "Epoch 26/30\n",
      "1875/1875 [==============================] - 12s 6ms/step - loss: 0.1427 - accuracy: 0.9500 - val_loss: 0.5564 - val_accuracy: 0.8820\n",
      "Epoch 27/30\n",
      "1875/1875 [==============================] - 12s 6ms/step - loss: 0.1397 - accuracy: 0.9504 - val_loss: 0.5703 - val_accuracy: 0.8821\n",
      "Epoch 28/30\n",
      "1875/1875 [==============================] - 12s 7ms/step - loss: 0.1468 - accuracy: 0.9492 - val_loss: 0.6141 - val_accuracy: 0.8779\n",
      "Epoch 29/30\n",
      "1875/1875 [==============================] - 12s 7ms/step - loss: 0.1317 - accuracy: 0.9545 - val_loss: 0.5973 - val_accuracy: 0.8767\n",
      "Epoch 30/30\n",
      "1875/1875 [==============================] - 12s 6ms/step - loss: 0.1397 - accuracy: 0.9517 - val_loss: 0.6209 - val_accuracy: 0.8850\n"
     ]
    },
    {
     "data": {
      "text/plain": [
       "<keras.callbacks.History at 0x22fd7a01340>"
      ]
     },
     "execution_count": 39,
     "metadata": {},
     "output_type": "execute_result"
    }
   ],
   "source": [
    "modelPart1.fit(xtrain,ytrain,validation_data=(xtest,ytest),epochs=30)"
   ]
  },
  {
   "cell_type": "code",
   "execution_count": 40,
   "id": "7dfd6ada-2674-47a6-b756-b9fe5253adc5",
   "metadata": {},
   "outputs": [
    {
     "data": {
      "image/png": "[encoded data removed]",
      "text/plain": [
       "<Figure size 432x288 with 1 Axes>"
      ]
     },
     "metadata": {
      "needs_background": "light"
     },
     "output_type": "display_data"
    }
   ],
   "source": [
    "plt.plot(modelPart1.history.history['accuracy'])\n",
    "plt.plot(modelPart1.history.history['val_accuracy'])\n",
    "plt.title('model accuracy')\n",
    "plt.ylabel('accuracy')\n",
    "plt.xlabel('epoch')\n",
    "plt.legend(['train', 'val'], loc='upper left')\n",
    "plt.show()"
   ]
  },
  {
   "cell_type": "code",
   "execution_count": 41,
   "id": "0bf0ecfb-e188-498a-a0dd-a4d4deee2182",
   "metadata": {},
   "outputs": [
    {
     "data": {
      "image/png": "[encoded data removed]",
      "text/plain": [
       "<Figure size 432x288 with 1 Axes>"
      ]
     },
     "metadata": {
      "needs_background": "light"
     },
     "output_type": "display_data"
    }
   ],
   "source": [
    "plt.plot(modelPart1.history.history['loss'])\n",
    "plt.plot(modelPart1.history.history['val_loss'])\n",
    "plt.title('model loss')\n",
    "plt.ylabel('loss')\n",
    "plt.xlabel('epoch')\n",
    "plt.legend(['train', 'val'], loc='upper left')\n",
    "plt.show()"
   ]
  },
  {
   "cell_type": "code",
   "execution_count": null,
   "id": "9b0513a7-85dc-4e5a-8a3d-bd59ad5ed787",
   "metadata": {},
   "outputs": [],
   "source": []
  }
 ],
 "metadata": {
  "kernelspec": {
   "display_name": "Python 3 (ipykernel)",
   "language": "python",
   "name": "python3"
  },
  "language_info": {
   "codemirror_mode": {
    "name": "ipython",
    "version": 3
   },
   "file_extension": ".py",
   "mimetype": "text/x-python",
   "name": "python",
   "nbconvert_exporter": "python",
   "pygments_lexer": "ipython3",
   "version": "3.9.12"
  }
 },
 "nbformat": 4,
 "nbformat_minor": 5
}
