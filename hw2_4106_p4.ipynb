{
 "cells": [
  {
   "cell_type": "code",
   "execution_count": 6,
   "id": "ed921f6e-9280-4fda-8956-a993cb0d962a",
   "metadata": {},
   "outputs": [
    {
     "name": "stdout",
     "output_type": "stream",
     "text": [
      "xtrain shape: (60000, 28, 28) ytrain shape: (60000,)\n"
     ]
    }
   ],
   "source": [
    "#seth hensley\n",
    "#801055921\n",
    "#problem 4\n",
    "\n",
    "import tensorflow as tf\n",
    "import keras \n",
    "import numpy as np\n",
    "import matplotlib.pyplot as plt\n",
    "from sklearn.model_selection import train_test_split\n",
    "\n",
    "\n",
    "\n",
    "def build_alexnet():\n",
    "    model = tf.keras.Sequential([\n",
    "        tf.keras.Input(shape = (28,28,1)),\n",
    "        keras.layers.Conv2D(96, 11, padding = \"same\"),\n",
    "        keras.layers.Activation(\"relu\"),\n",
    "        keras.layers.MaxPool2D(3, strides = 2),\n",
    "        keras.layers.Conv2D(256, 5, padding = \"same\"),\n",
    "        keras.layers.Activation(\"relu\"),\n",
    "        keras.layers.MaxPool2D(3, strides = 2),\n",
    "        keras.layers.Conv2D(384, 3, padding = \"same\"),\n",
    "        keras.layers.Activation(\"relu\"),\n",
    "        keras.layers.Conv2D(384, 3, padding = \"same\"),\n",
    "        keras.layers.Activation(\"relu\"),\n",
    "        keras.layers.Conv2D(256, 3, padding = \"same\"),\n",
    "        keras.layers.Activation(\"relu\"),\n",
    "        keras.layers.MaxPool2D(3, strides = 2),\n",
    "        keras.layers.Flatten(),\n",
    "        keras.layers.Dense(4096),\n",
    "        keras.layers.Activation(\"relu\"),\n",
    "        keras.layers.Dropout(0.5),\n",
    "        keras.layers.Dense(4096),\n",
    "        keras.layers.Activation(\"relu\"),\n",
    "        keras.layers.Dropout(0.5),\n",
    "        keras.layers.Dense(10)       \n",
    "    ])\n",
    "    \n",
    "    return model\n",
    "\n",
    "\n",
    "(xtrain,ytrain),(xtest,ytest) = keras.datasets.fashion_mnist.load_data()\n",
    "print(\"xtrain shape:\", xtrain.shape, \"ytrain shape:\", ytrain.shape)\n"
   ]
  },
  {
   "cell_type": "code",
   "execution_count": 7,
   "id": "34ec3ec8-7354-47ea-a467-9a30d94394d7",
   "metadata": {},
   "outputs": [],
   "source": [
    "alexnet = build_alexnet()\n",
    "\n"
   ]
  },
  {
   "cell_type": "code",
   "execution_count": 8,
   "id": "a2dd3825-3ebf-4e96-9beb-341aba1f9077",
   "metadata": {},
   "outputs": [
    {
     "name": "stdout",
     "output_type": "stream",
     "text": [
      "Model: \"sequential_1\"\n",
      "_________________________________________________________________\n",
      " Layer (type)                Output Shape              Param #   \n",
      "=================================================================\n",
      " conv2d_5 (Conv2D)           (None, 28, 28, 96)        11712     \n",
      "                                                                 \n",
      " activation_7 (Activation)   (None, 28, 28, 96)        0         \n",
      "                                                                 \n",
      " max_pooling2d_3 (MaxPooling  (None, 13, 13, 96)       0         \n",
      " 2D)                                                             \n",
      "                                                                 \n",
      " conv2d_6 (Conv2D)           (None, 13, 13, 256)       614656    \n",
      "                                                                 \n",
      " activation_8 (Activation)   (None, 13, 13, 256)       0         \n",
      "                                                                 \n",
      " max_pooling2d_4 (MaxPooling  (None, 6, 6, 256)        0         \n",
      " 2D)                                                             \n",
      "                                                                 \n",
      " conv2d_7 (Conv2D)           (None, 6, 6, 384)         885120    \n",
      "                                                                 \n",
      " activation_9 (Activation)   (None, 6, 6, 384)         0         \n",
      "                                                                 \n",
      " conv2d_8 (Conv2D)           (None, 6, 6, 384)         1327488   \n",
      "                                                                 \n",
      " activation_10 (Activation)  (None, 6, 6, 384)         0         \n",
      "                                                                 \n",
      " conv2d_9 (Conv2D)           (None, 6, 6, 256)         884992    \n",
      "                                                                 \n",
      " activation_11 (Activation)  (None, 6, 6, 256)         0         \n",
      "                                                                 \n",
      " max_pooling2d_5 (MaxPooling  (None, 2, 2, 256)        0         \n",
      " 2D)                                                             \n",
      "                                                                 \n",
      " flatten_1 (Flatten)         (None, 1024)              0         \n",
      "                                                                 \n",
      " dense_3 (Dense)             (None, 4096)              4198400   \n",
      "                                                                 \n",
      " activation_12 (Activation)  (None, 4096)              0         \n",
      "                                                                 \n",
      " dropout_2 (Dropout)         (None, 4096)              0         \n",
      "                                                                 \n",
      " dense_4 (Dense)             (None, 4096)              16781312  \n",
      "                                                                 \n",
      " activation_13 (Activation)  (None, 4096)              0         \n",
      "                                                                 \n",
      " dropout_3 (Dropout)         (None, 4096)              0         \n",
      "                                                                 \n",
      " dense_5 (Dense)             (None, 10)                40970     \n",
      "                                                                 \n",
      "=================================================================\n",
      "Total params: 24,744,650\n",
      "Trainable params: 24,744,650\n",
      "Non-trainable params: 0\n",
      "_________________________________________________________________\n"
     ]
    }
   ],
   "source": [
    "alexnet.compile(optimizer=\"adam\", loss = tf.keras.losses.SparseCategoricalCrossentropy(from_logits= True), metrics=[\"accuracy\"])\n",
    "alexnet.summary()"
   ]
  },
  {
   "cell_type": "code",
   "execution_count": null,
   "id": "5a92f2e1-3e07-4740-8617-e52979eeea8b",
   "metadata": {},
   "outputs": [
    {
     "name": "stdout",
     "output_type": "stream",
     "text": [
      "Epoch 1/25\n",
      "1875/1875 [==============================] - 728s 387ms/step - loss: 0.6514 - accuracy: 0.7894 - val_loss: 0.4861 - val_accuracy: 0.8295\n",
      "Epoch 2/25\n",
      "1875/1875 [==============================] - 719s 384ms/step - loss: 0.4779 - accuracy: 0.8330 - val_loss: 0.4292 - val_accuracy: 0.8427\n",
      "Epoch 3/25\n",
      "1875/1875 [==============================] - 706s 377ms/step - loss: 0.4653 - accuracy: 0.8385 - val_loss: 0.4172 - val_accuracy: 0.8496\n",
      "Epoch 4/25\n",
      "1875/1875 [==============================] - 727s 388ms/step - loss: 0.4678 - accuracy: 0.8409 - val_loss: 0.4883 - val_accuracy: 0.8315\n",
      "Epoch 5/25\n",
      " 631/1875 [=========>....................] - ETA: 8:24 - loss: 0.4188 - accuracy: 0.8553"
     ]
    }
   ],
   "source": [
    "alexnet.fit(xtrain,ytrain,validation_data=(xtest,ytest),epochs=25)\n"
   ]
  },
  {
   "cell_type": "code",
   "execution_count": null,
   "id": "7562e159-30b8-4e0a-a9cc-bf073db95097",
   "metadata": {},
   "outputs": [],
   "source": []
  }
 ],
 "metadata": {
  "kernelspec": {
   "display_name": "Python 3 (ipykernel)",
   "language": "python",
   "name": "python3"
  },
  "language_info": {
   "codemirror_mode": {
    "name": "ipython",
    "version": 3
   },
   "file_extension": ".py",
   "mimetype": "text/x-python",
   "name": "python",
   "nbconvert_exporter": "python",
   "pygments_lexer": "ipython3",
   "version": "3.9.12"
  }
 },
 "nbformat": 4,
 "nbformat_minor": 5
}
