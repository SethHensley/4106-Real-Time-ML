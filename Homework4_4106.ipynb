{
  "nbformat": 4,
  "nbformat_minor": 0,
  "metadata": {
    "colab": {
      "provenance": []
    },
    "kernelspec": {
      "name": "python3",
      "display_name": "Python 3"
    },
    "language_info": {
      "name": "python"
    },
    "accelerator": "GPU",
    "gpuClass": "standard"
  },
  "cells": [
    {
      "cell_type": "code",
      "execution_count": null,
      "metadata": {
        "colab": {
          "base_uri": "https://localhost:8080/"
        },
        "id": "SwXrtDqFpuMo",
        "outputId": "ddb79d18-6624-47f5-ac99-1ac4a8dd6653"
      },
      "outputs": [
        {
          "output_type": "stream",
          "name": "stdout",
          "text": [
            "(60000, 28, 28)\n"
          ]
        },
        {
          "output_type": "execute_result",
          "data": {
            "text/plain": [
              "((60000, 28, 28), (60000,))"
            ]
          },
          "metadata": {},
          "execution_count": 1
        }
      ],
      "source": [
        "#seth hensley\n",
        "#801055921\n",
        "#homework 4\n",
        "import tensorflow as tf\n",
        "import keras \n",
        "import numpy as np \n",
        "import matplotlib.pyplot as plt\n",
        "\n",
        "(xtrain, ytrain), (xtest, ytest)= tf.keras.datasets.fashion_mnist.load_data()\n",
        "\n",
        "\n",
        "\n",
        "print(xtrain.shape)\n",
        "\n",
        "\n",
        "xtrain = xtrain/255.0\n",
        "xtest = xtest/255.0\n",
        "xtrain.shape, ytrain.shape"
      ]
    },
    {
      "cell_type": "code",
      "source": [
        "modelGRU = keras.models.Sequential()\n",
        "modelGRU.add(keras.Input(shape=(28,28)))\n",
        "modelGRU.add(keras.layers.GRU(units=128,return_sequences=False, activation='relu', dropout=.2))\n",
        "modelGRU.add(keras.layers.Dense(10))\n",
        "\n",
        "print(modelGRU.summary())"
      ],
      "metadata": {
        "colab": {
          "base_uri": "https://localhost:8080/"
        },
        "id": "fgkI2UdMsu3L",
        "outputId": "6068c4d0-2451-4e5a-a931-e6e369b4f28d"
      },
      "execution_count": null,
      "outputs": [
        {
          "output_type": "stream",
          "name": "stderr",
          "text": [
            "WARNING:tensorflow:Layer gru will not use cuDNN kernels since it doesn't meet the criteria. It will use a generic GPU kernel as fallback when running on GPU.\n"
          ]
        },
        {
          "output_type": "stream",
          "name": "stdout",
          "text": [
            "Model: \"sequential\"\n",
            "_________________________________________________________________\n",
            " Layer (type)                Output Shape              Param #   \n",
            "=================================================================\n",
            " gru (GRU)                   (None, 128)               60672     \n",
            "                                                                 \n",
            " dense (Dense)               (None, 10)                1290      \n",
            "                                                                 \n",
            "=================================================================\n",
            "Total params: 61,962\n",
            "Trainable params: 61,962\n",
            "Non-trainable params: 0\n",
            "_________________________________________________________________\n",
            "None\n"
          ]
        }
      ]
    },
    {
      "cell_type": "code",
      "source": [
        "loss = keras.losses.SparseCategoricalCrossentropy(from_logits=True)\n",
        "opt = keras.optimizers.Adam(lr=0.001)\n",
        "metrics = [\"accuracy\"]\n",
        "\n",
        "batchSize=100\n",
        "epochs = 10\n",
        "modelGRU.compile(loss=loss,optimizer=opt,metrics= metrics)"
      ],
      "metadata": {
        "colab": {
          "base_uri": "https://localhost:8080/"
        },
        "id": "-hhgTgrBuHdi",
        "outputId": "29f1292e-3070-4b8e-b39c-4fb0c83db730"
      },
      "execution_count": null,
      "outputs": [
        {
          "output_type": "stream",
          "name": "stderr",
          "text": [
            "/usr/local/lib/python3.9/dist-packages/keras/optimizers/optimizer_v2/adam.py:117: UserWarning: The `lr` argument is deprecated, use `learning_rate` instead.\n",
            "  super().__init__(name, **kwargs)\n"
          ]
        }
      ]
    },
    {
      "cell_type": "code",
      "source": [
        "modelGRU.fit(xtrain, ytrain, batch_size=batchSize, epochs=epochs)"
      ],
      "metadata": {
        "colab": {
          "base_uri": "https://localhost:8080/"
        },
        "id": "RADC6VTavBTq",
        "outputId": "06c7c0f8-0865-408d-f4ba-b9e7ace51409"
      },
      "execution_count": null,
      "outputs": [
        {
          "output_type": "stream",
          "name": "stdout",
          "text": [
            "Epoch 1/10\n",
            "600/600 [==============================] - 13s 19ms/step - loss: 0.7595 - accuracy: 0.7159\n",
            "Epoch 2/10\n",
            "600/600 [==============================] - 11s 18ms/step - loss: 0.4537 - accuracy: 0.8303\n",
            "Epoch 3/10\n",
            "600/600 [==============================] - 11s 18ms/step - loss: 0.3996 - accuracy: 0.8497\n",
            "Epoch 4/10\n",
            "600/600 [==============================] - 11s 18ms/step - loss: 0.3727 - accuracy: 0.8607\n",
            "Epoch 5/10\n",
            "600/600 [==============================] - 11s 19ms/step - loss: 0.3550 - accuracy: 0.8664\n",
            "Epoch 6/10\n",
            "600/600 [==============================] - 10s 17ms/step - loss: 0.3399 - accuracy: 0.8716\n",
            "Epoch 7/10\n",
            "600/600 [==============================] - 10s 17ms/step - loss: 0.3318 - accuracy: 0.8756\n",
            "Epoch 8/10\n",
            "600/600 [==============================] - 11s 18ms/step - loss: 0.3156 - accuracy: 0.8805\n",
            "Epoch 9/10\n",
            "600/600 [==============================] - 11s 18ms/step - loss: 0.3112 - accuracy: 0.8821\n",
            "Epoch 10/10\n",
            "600/600 [==============================] - 11s 18ms/step - loss: 0.3026 - accuracy: 0.8861\n"
          ]
        },
        {
          "output_type": "execute_result",
          "data": {
            "text/plain": [
              "<keras.callbacks.History at 0x7f739c910af0>"
            ]
          },
          "metadata": {},
          "execution_count": 4
        }
      ]
    },
    {
      "cell_type": "code",
      "source": [
        "modelGRU.evaluate(xtest,ytest)"
      ],
      "metadata": {
        "colab": {
          "base_uri": "https://localhost:8080/"
        },
        "id": "4new0xHnvSgJ",
        "outputId": "acd28e6d-116c-4bde-fcc5-2d8f4db7d8f6"
      },
      "execution_count": null,
      "outputs": [
        {
          "output_type": "stream",
          "name": "stdout",
          "text": [
            "313/313 [==============================] - 3s 7ms/step - loss: 0.3255 - accuracy: 0.8802\n"
          ]
        },
        {
          "output_type": "execute_result",
          "data": {
            "text/plain": [
              "[0.32552266120910645, 0.8802000284194946]"
            ]
          },
          "metadata": {},
          "execution_count": 5
        }
      ]
    },
    {
      "cell_type": "code",
      "source": [
        "modelLSTM = keras.models.Sequential()\n",
        "modelLSTM.add(keras.Input(shape=(28,28)))\n",
        "modelLSTM.add(keras.layers.GRU(units=128,return_sequences=False, activation='relu', dropout=.2))\n",
        "modelLSTM.add(keras.layers.Dense(10))\n",
        "\n",
        "print(modelLSTM.summary())"
      ],
      "metadata": {
        "colab": {
          "base_uri": "https://localhost:8080/"
        },
        "id": "ouJLah-SzYx3",
        "outputId": "66849707-8916-4aef-c689-cd4b4ce76ec7"
      },
      "execution_count": null,
      "outputs": [
        {
          "output_type": "stream",
          "name": "stderr",
          "text": [
            "WARNING:tensorflow:Layer gru_1 will not use cuDNN kernels since it doesn't meet the criteria. It will use a generic GPU kernel as fallback when running on GPU.\n"
          ]
        },
        {
          "output_type": "stream",
          "name": "stdout",
          "text": [
            "Model: \"sequential_1\"\n",
            "_________________________________________________________________\n",
            " Layer (type)                Output Shape              Param #   \n",
            "=================================================================\n",
            " gru_1 (GRU)                 (None, 128)               60672     \n",
            "                                                                 \n",
            " dense_1 (Dense)             (None, 10)                1290      \n",
            "                                                                 \n",
            "=================================================================\n",
            "Total params: 61,962\n",
            "Trainable params: 61,962\n",
            "Non-trainable params: 0\n",
            "_________________________________________________________________\n",
            "None\n"
          ]
        }
      ]
    },
    {
      "cell_type": "code",
      "source": [
        "modelLSTM.compile(loss=loss,optimizer=opt,metrics= metrics)"
      ],
      "metadata": {
        "id": "v3c1R5uV3vQV"
      },
      "execution_count": null,
      "outputs": []
    },
    {
      "cell_type": "code",
      "source": [
        "modelLSTM.fit(xtrain, ytrain, batch_size=batchSize, epochs=epochs)"
      ],
      "metadata": {
        "colab": {
          "base_uri": "https://localhost:8080/"
        },
        "id": "5Qha-DjG3xe9",
        "outputId": "67aa1b50-cbb9-4446-f3ff-16a0d86a9615"
      },
      "execution_count": null,
      "outputs": [
        {
          "output_type": "stream",
          "name": "stdout",
          "text": [
            "Epoch 1/10\n",
            "600/600 [==============================] - 12s 18ms/step - loss: 0.5768 - accuracy: 0.7850\n",
            "Epoch 2/10\n",
            "600/600 [==============================] - 11s 18ms/step - loss: 0.3788 - accuracy: 0.8595\n",
            "Epoch 3/10\n",
            "600/600 [==============================] - 11s 18ms/step - loss: 0.3527 - accuracy: 0.8674\n",
            "Epoch 4/10\n",
            "600/600 [==============================] - 11s 18ms/step - loss: 0.3328 - accuracy: 0.8771\n",
            "Epoch 5/10\n",
            "600/600 [==============================] - 10s 17ms/step - loss: 0.3214 - accuracy: 0.8788\n",
            "Epoch 6/10\n",
            "600/600 [==============================] - 10s 16ms/step - loss: 0.3084 - accuracy: 0.8835\n",
            "Epoch 7/10\n",
            "600/600 [==============================] - 11s 18ms/step - loss: 0.3008 - accuracy: 0.8857\n",
            "Epoch 8/10\n",
            "600/600 [==============================] - 10s 17ms/step - loss: 0.2927 - accuracy: 0.8899\n",
            "Epoch 9/10\n",
            "600/600 [==============================] - 11s 18ms/step - loss: 0.2890 - accuracy: 0.8916\n",
            "Epoch 10/10\n",
            "600/600 [==============================] - 11s 19ms/step - loss: 0.2828 - accuracy: 0.8941\n"
          ]
        },
        {
          "output_type": "execute_result",
          "data": {
            "text/plain": [
              "<keras.callbacks.History at 0x7f739d25ad30>"
            ]
          },
          "metadata": {},
          "execution_count": 8
        }
      ]
    },
    {
      "cell_type": "code",
      "source": [
        "modelLSTM.evaluate(xtest,ytest)"
      ],
      "metadata": {
        "colab": {
          "base_uri": "https://localhost:8080/"
        },
        "id": "U_wpRsel3xld",
        "outputId": "13965fec-c26a-4560-cd69-221f03bef8e1"
      },
      "execution_count": null,
      "outputs": [
        {
          "output_type": "stream",
          "name": "stdout",
          "text": [
            "313/313 [==============================] - 2s 7ms/step - loss: 0.3071 - accuracy: 0.8876\n"
          ]
        },
        {
          "output_type": "execute_result",
          "data": {
            "text/plain": [
              "[0.3071264624595642, 0.8876000046730042]"
            ]
          },
          "metadata": {},
          "execution_count": 9
        }
      ]
    },
    {
      "cell_type": "code",
      "source": [
        "simple = keras.models.Sequential()\n",
        "simple.add(keras.Input(shape=(28,28)))\n",
        "simple.add(keras.layers.SimpleRNN(128, activation='relu', dropout=.2))\n",
        "simple.add(keras.layers.Dense(10))\n",
        "\n",
        "print(simple.summary())"
      ],
      "metadata": {
        "colab": {
          "base_uri": "https://localhost:8080/"
        },
        "id": "PuRft1ib4FpW",
        "outputId": "67347422-5c72-4b40-f73b-70aefc204e89"
      },
      "execution_count": null,
      "outputs": [
        {
          "output_type": "stream",
          "name": "stdout",
          "text": [
            "Model: \"sequential_2\"\n",
            "_________________________________________________________________\n",
            " Layer (type)                Output Shape              Param #   \n",
            "=================================================================\n",
            " simple_rnn (SimpleRNN)      (None, 128)               20096     \n",
            "                                                                 \n",
            " dense_2 (Dense)             (None, 10)                1290      \n",
            "                                                                 \n",
            "=================================================================\n",
            "Total params: 21,386\n",
            "Trainable params: 21,386\n",
            "Non-trainable params: 0\n",
            "_________________________________________________________________\n",
            "None\n"
          ]
        }
      ]
    },
    {
      "cell_type": "code",
      "source": [
        "simple.compile(loss=loss,optimizer=opt,metrics= metrics)"
      ],
      "metadata": {
        "id": "nUKTJ99-5Na-"
      },
      "execution_count": null,
      "outputs": []
    },
    {
      "cell_type": "code",
      "source": [
        "simple.fit(xtrain, ytrain, batch_size=batchSize, epochs=epochs)"
      ],
      "metadata": {
        "colab": {
          "base_uri": "https://localhost:8080/"
        },
        "id": "zOKWyRQ75N32",
        "outputId": "081b8a17-354c-4320-c592-8aeed4ca5e45"
      },
      "execution_count": null,
      "outputs": [
        {
          "output_type": "stream",
          "name": "stdout",
          "text": [
            "Epoch 1/10\n",
            "600/600 [==============================] - 7s 11ms/step - loss: 0.9191 - accuracy: 0.6454\n",
            "Epoch 2/10\n",
            "600/600 [==============================] - 6s 9ms/step - loss: 0.6102 - accuracy: 0.7739\n",
            "Epoch 3/10\n",
            "600/600 [==============================] - 6s 11ms/step - loss: 0.5291 - accuracy: 0.8086\n",
            "Epoch 4/10\n",
            "600/600 [==============================] - 6s 9ms/step - loss: 0.4867 - accuracy: 0.8238\n",
            "Epoch 5/10\n",
            "600/600 [==============================] - 6s 11ms/step - loss: 0.4533 - accuracy: 0.8344\n",
            "Epoch 6/10\n",
            "600/600 [==============================] - 6s 9ms/step - loss: 0.4404 - accuracy: 0.8401\n",
            "Epoch 7/10\n",
            "600/600 [==============================] - 6s 11ms/step - loss: 0.4299 - accuracy: 0.8432\n",
            "Epoch 8/10\n",
            "600/600 [==============================] - 6s 9ms/step - loss: 0.4121 - accuracy: 0.8487\n",
            "Epoch 9/10\n",
            "600/600 [==============================] - 6s 11ms/step - loss: 0.4095 - accuracy: 0.8496\n",
            "Epoch 10/10\n",
            "600/600 [==============================] - 6s 9ms/step - loss: 0.3941 - accuracy: 0.8546\n"
          ]
        },
        {
          "output_type": "execute_result",
          "data": {
            "text/plain": [
              "<keras.callbacks.History at 0x7f739cf8c730>"
            ]
          },
          "metadata": {},
          "execution_count": 12
        }
      ]
    },
    {
      "cell_type": "code",
      "source": [
        "simple.evaluate(xtest,ytest)"
      ],
      "metadata": {
        "colab": {
          "base_uri": "https://localhost:8080/"
        },
        "id": "OZhC_i0f5N6Y",
        "outputId": "ff231267-2908-4357-f8c1-e588365d54fa"
      },
      "execution_count": null,
      "outputs": [
        {
          "output_type": "stream",
          "name": "stdout",
          "text": [
            "313/313 [==============================] - 2s 5ms/step - loss: 0.3813 - accuracy: 0.8610\n"
          ]
        },
        {
          "output_type": "execute_result",
          "data": {
            "text/plain": [
              "[0.3812672197818756, 0.8610000014305115]"
            ]
          },
          "metadata": {},
          "execution_count": 13
        }
      ]
    },
    {
      "cell_type": "code",
      "source": [],
      "metadata": {
        "id": "GRZfl5Sl6Cag"
      },
      "execution_count": null,
      "outputs": []
    }
  ]
}