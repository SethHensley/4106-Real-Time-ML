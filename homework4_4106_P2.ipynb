{
  "nbformat": 4,
  "nbformat_minor": 0,
  "metadata": {
    "colab": {
      "provenance": []
    },
    "kernelspec": {
      "name": "python3",
      "display_name": "Python 3"
    },
    "language_info": {
      "name": "python"
    },
    "accelerator": "GPU",
    "gpuClass": "standard"
  },
  "cells": [
    {
      "cell_type": "code",
      "execution_count": null,
      "metadata": {
        "colab": {
          "base_uri": "https://localhost:8080/"
        },
        "id": "Rw4rgqD7_L4W",
        "outputId": "955be9b7-dfb0-4abf-8d68-2cca59a73acd"
      },
      "outputs": [
        {
          "output_type": "stream",
          "name": "stdout",
          "text": [
            "Downloading data from https://storage.googleapis.com/tensorflow/tf-keras-datasets/train-labels-idx1-ubyte.gz\n",
            "29515/29515 [==============================] - 0s 0us/step\n",
            "Downloading data from https://storage.googleapis.com/tensorflow/tf-keras-datasets/train-images-idx3-ubyte.gz\n",
            "26421880/26421880 [==============================] - 0s 0us/step\n",
            "Downloading data from https://storage.googleapis.com/tensorflow/tf-keras-datasets/t10k-labels-idx1-ubyte.gz\n",
            "5148/5148 [==============================] - 0s 0us/step\n",
            "Downloading data from https://storage.googleapis.com/tensorflow/tf-keras-datasets/t10k-images-idx3-ubyte.gz\n",
            "4422102/4422102 [==============================] - 0s 0us/step\n",
            "(60000, 28, 28)\n"
          ]
        },
        {
          "output_type": "execute_result",
          "data": {
            "text/plain": [
              "((60000, 28, 28), (60000,))"
            ]
          },
          "metadata": {},
          "execution_count": 2
        }
      ],
      "source": [
        "#seth hensley\n",
        "#801055921\n",
        "#homework 4\n",
        "import tensorflow as tf\n",
        "import keras \n",
        "import numpy as np \n",
        "import matplotlib.pyplot as plt\n",
        "\n",
        "(xtrain, ytrain), (xtest, ytest)= tf.keras.datasets.fashion_mnist.load_data()\n",
        "\n",
        "\n",
        "\n",
        "print(xtrain.shape)\n",
        "\n",
        "\n",
        "xtrain = xtrain/255.0\n",
        "xtest = xtest/255.0\n",
        "xtrain.shape, ytrain.shape"
      ]
    },
    {
      "cell_type": "code",
      "source": [
        "modelGRU = keras.models.Sequential()\n",
        "modelGRU.add(keras.Input(shape=(28,28)))\n",
        "modelGRU.add(keras.layers.GRU(units=128,return_sequences=True, activation='relu', dropout=.2))\n",
        "modelGRU.add(keras.layers.GRU(units=128,return_sequences=True, activation='relu', dropout=.2))\n",
        "modelGRU.add(keras.layers.GRU(units=128,return_sequences=False, activation='relu', dropout=.2))\n",
        "modelGRU.add(keras.layers.Dense(10))\n",
        "\n",
        "print(modelGRU.summary())"
      ],
      "metadata": {
        "colab": {
          "base_uri": "https://localhost:8080/"
        },
        "id": "6cmg0tH-_TFN",
        "outputId": "583fdd4f-9837-4ac3-a3d3-eaba2abd0475"
      },
      "execution_count": null,
      "outputs": [
        {
          "output_type": "stream",
          "name": "stderr",
          "text": [
            "WARNING:tensorflow:Layer gru will not use cuDNN kernels since it doesn't meet the criteria. It will use a generic GPU kernel as fallback when running on GPU.\n",
            "WARNING:tensorflow:Layer gru_1 will not use cuDNN kernels since it doesn't meet the criteria. It will use a generic GPU kernel as fallback when running on GPU.\n",
            "WARNING:tensorflow:Layer gru_2 will not use cuDNN kernels since it doesn't meet the criteria. It will use a generic GPU kernel as fallback when running on GPU.\n"
          ]
        },
        {
          "output_type": "stream",
          "name": "stdout",
          "text": [
            "Model: \"sequential\"\n",
            "_________________________________________________________________\n",
            " Layer (type)                Output Shape              Param #   \n",
            "=================================================================\n",
            " gru (GRU)                   (None, 28, 128)           60672     \n",
            "                                                                 \n",
            " gru_1 (GRU)                 (None, 28, 128)           99072     \n",
            "                                                                 \n",
            " gru_2 (GRU)                 (None, 128)               99072     \n",
            "                                                                 \n",
            " dense (Dense)               (None, 10)                1290      \n",
            "                                                                 \n",
            "=================================================================\n",
            "Total params: 260,106\n",
            "Trainable params: 260,106\n",
            "Non-trainable params: 0\n",
            "_________________________________________________________________\n",
            "None\n"
          ]
        }
      ]
    },
    {
      "cell_type": "code",
      "source": [
        "loss = keras.losses.SparseCategoricalCrossentropy(from_logits=True)\n",
        "opt = keras.optimizers.Adam(lr=0.001)\n",
        "metrics = [\"accuracy\"]\n",
        "\n",
        "batchSize=100\n",
        "epochs = 20\n",
        "modelGRU.compile(loss=loss,optimizer=opt,metrics= metrics)"
      ],
      "metadata": {
        "colab": {
          "base_uri": "https://localhost:8080/"
        },
        "id": "rEbMoMeR_X1U",
        "outputId": "dce48f1a-68cd-455b-b0ed-c85311b09f66"
      },
      "execution_count": null,
      "outputs": [
        {
          "output_type": "stream",
          "name": "stderr",
          "text": [
            "/usr/local/lib/python3.9/dist-packages/keras/optimizers/optimizer_v2/adam.py:117: UserWarning: The `lr` argument is deprecated, use `learning_rate` instead.\n",
            "  super().__init__(name, **kwargs)\n"
          ]
        }
      ]
    },
    {
      "cell_type": "code",
      "source": [
        "modelGRU.fit(xtrain, ytrain, batch_size=batchSize, epochs=epochs)"
      ],
      "metadata": {
        "colab": {
          "base_uri": "https://localhost:8080/"
        },
        "id": "FJY1qBoz_caY",
        "outputId": "c660da72-8f45-45ef-fccc-5a36e5f0d565"
      },
      "execution_count": null,
      "outputs": [
        {
          "output_type": "stream",
          "name": "stdout",
          "text": [
            "Epoch 1/20\n",
            "600/600 [==============================] - 54s 81ms/step - loss: 0.6977 - accuracy: 0.7357\n",
            "Epoch 2/20\n",
            "600/600 [==============================] - 48s 80ms/step - loss: 0.4367 - accuracy: 0.8374\n",
            "Epoch 3/20\n",
            "600/600 [==============================] - 47s 79ms/step - loss: 0.3893 - accuracy: 0.8527\n",
            "Epoch 4/20\n",
            "600/600 [==============================] - 48s 80ms/step - loss: 0.3616 - accuracy: 0.8650\n",
            "Epoch 5/20\n",
            "600/600 [==============================] - 48s 80ms/step - loss: 0.3435 - accuracy: 0.8696\n",
            "Epoch 6/20\n",
            "600/600 [==============================] - 48s 81ms/step - loss: 0.3309 - accuracy: 0.8759\n",
            "Epoch 7/20\n",
            "600/600 [==============================] - 49s 81ms/step - loss: 0.3162 - accuracy: 0.8802\n",
            "Epoch 8/20\n",
            "600/600 [==============================] - 47s 79ms/step - loss: 0.3070 - accuracy: 0.8847\n",
            "Epoch 9/20\n",
            "600/600 [==============================] - 48s 80ms/step - loss: 0.2960 - accuracy: 0.8866\n",
            "Epoch 10/20\n",
            "600/600 [==============================] - 48s 80ms/step - loss: 0.2906 - accuracy: 0.8904\n",
            "Epoch 11/20\n",
            "600/600 [==============================] - 49s 82ms/step - loss: 0.2826 - accuracy: 0.8931\n",
            "Epoch 12/20\n",
            "600/600 [==============================] - 48s 81ms/step - loss: 0.2735 - accuracy: 0.8964\n",
            "Epoch 13/20\n",
            "600/600 [==============================] - 47s 79ms/step - loss: 0.2692 - accuracy: 0.8978\n",
            "Epoch 14/20\n",
            "600/600 [==============================] - 49s 81ms/step - loss: 0.2634 - accuracy: 0.8987\n",
            "Epoch 15/20\n",
            "600/600 [==============================] - 48s 79ms/step - loss: 0.2579 - accuracy: 0.9018\n",
            "Epoch 16/20\n",
            "600/600 [==============================] - 47s 79ms/step - loss: 0.2539 - accuracy: 0.9027\n",
            "Epoch 17/20\n",
            "600/600 [==============================] - 48s 80ms/step - loss: 0.2494 - accuracy: 0.9036\n",
            "Epoch 18/20\n",
            "600/600 [==============================] - 48s 80ms/step - loss: 0.2436 - accuracy: 0.9065\n",
            "Epoch 19/20\n",
            "600/600 [==============================] - 47s 79ms/step - loss: 0.2401 - accuracy: 0.9071\n",
            "Epoch 20/20\n",
            "600/600 [==============================] - 48s 79ms/step - loss: 0.2350 - accuracy: 0.9109\n"
          ]
        },
        {
          "output_type": "execute_result",
          "data": {
            "text/plain": [
              "<keras.callbacks.History at 0x7fbfb942aa90>"
            ]
          },
          "metadata": {},
          "execution_count": 5
        }
      ]
    },
    {
      "cell_type": "code",
      "source": [
        "modelGRU.evaluate(xtest,ytest)"
      ],
      "metadata": {
        "colab": {
          "base_uri": "https://localhost:8080/"
        },
        "id": "h_TRPq-u_eEi",
        "outputId": "39e4a887-861c-4483-9d55-58c6ad37503c"
      },
      "execution_count": null,
      "outputs": [
        {
          "output_type": "stream",
          "name": "stdout",
          "text": [
            "313/313 [==============================] - 6s 17ms/step - loss: 0.2903 - accuracy: 0.8962\n"
          ]
        },
        {
          "output_type": "execute_result",
          "data": {
            "text/plain": [
              "[0.290251225233078, 0.8962000012397766]"
            ]
          },
          "metadata": {},
          "execution_count": 6
        }
      ]
    },
    {
      "cell_type": "code",
      "source": [
        "\n",
        "modelLSTM = keras.models.Sequential()\n",
        "modelLSTM.add(keras.Input(shape=(28,28)))\n",
        "modelLSTM.add(keras.layers.LSTM(units=128,return_sequences=True, activation='relu', dropout=.2))\n",
        "modelLSTM.add(keras.layers.LSTM(units=128,return_sequences=True, activation='relu', dropout=.2))\n",
        "modelLSTM.add(keras.layers.LSTM(units=128,return_sequences=False, activation='relu', dropout=.2))\n",
        "modelLSTM.add(keras.layers.Dense(10))\n",
        "\n",
        "print(modelLSTM.summary())"
      ],
      "metadata": {
        "colab": {
          "base_uri": "https://localhost:8080/"
        },
        "id": "t69SRonrJpaq",
        "outputId": "f4e101d7-1e92-4b12-8a72-a937e471604b"
      },
      "execution_count": null,
      "outputs": [
        {
          "output_type": "stream",
          "name": "stderr",
          "text": [
            "WARNING:tensorflow:Layer lstm will not use cuDNN kernels since it doesn't meet the criteria. It will use a generic GPU kernel as fallback when running on GPU.\n",
            "WARNING:tensorflow:Layer lstm_1 will not use cuDNN kernels since it doesn't meet the criteria. It will use a generic GPU kernel as fallback when running on GPU.\n",
            "WARNING:tensorflow:Layer lstm_2 will not use cuDNN kernels since it doesn't meet the criteria. It will use a generic GPU kernel as fallback when running on GPU.\n"
          ]
        },
        {
          "output_type": "stream",
          "name": "stdout",
          "text": [
            "Model: \"sequential_1\"\n",
            "_________________________________________________________________\n",
            " Layer (type)                Output Shape              Param #   \n",
            "=================================================================\n",
            " lstm (LSTM)                 (None, 28, 128)           80384     \n",
            "                                                                 \n",
            " lstm_1 (LSTM)               (None, 28, 128)           131584    \n",
            "                                                                 \n",
            " lstm_2 (LSTM)               (None, 128)               131584    \n",
            "                                                                 \n",
            " dense_1 (Dense)             (None, 10)                1290      \n",
            "                                                                 \n",
            "=================================================================\n",
            "Total params: 344,842\n",
            "Trainable params: 344,842\n",
            "Non-trainable params: 0\n",
            "_________________________________________________________________\n",
            "None\n"
          ]
        }
      ]
    },
    {
      "cell_type": "code",
      "source": [
        "modelLSTM.compile(loss=loss,optimizer=opt,metrics= metrics)"
      ],
      "metadata": {
        "id": "Vta7Sn_1JqEG"
      },
      "execution_count": null,
      "outputs": []
    },
    {
      "cell_type": "code",
      "source": [
        "modelLSTM.fit(xtrain, ytrain, batch_size=batchSize, epochs=epochs)"
      ],
      "metadata": {
        "colab": {
          "base_uri": "https://localhost:8080/"
        },
        "id": "3GoANO29JqGt",
        "outputId": "9a51e65f-8670-4d7e-a5fa-2cd4cec823b8"
      },
      "execution_count": null,
      "outputs": [
        {
          "output_type": "stream",
          "name": "stdout",
          "text": [
            "Epoch 1/20\n",
            "600/600 [==============================] - 48s 76ms/step - loss: 0.9710 - accuracy: 0.6115\n",
            "Epoch 2/20\n",
            "600/600 [==============================] - 45s 75ms/step - loss: 0.6131 - accuracy: 0.7785\n",
            "Epoch 3/20\n",
            "600/600 [==============================] - 46s 77ms/step - loss: 0.4869 - accuracy: 0.8181\n",
            "Epoch 4/20\n",
            "600/600 [==============================] - 48s 80ms/step - loss: 0.4754 - accuracy: 0.8309\n",
            "Epoch 5/20\n",
            "600/600 [==============================] - 45s 74ms/step - loss: 0.4132 - accuracy: 0.8450\n",
            "Epoch 6/20\n",
            "600/600 [==============================] - 45s 75ms/step - loss: 0.3886 - accuracy: 0.8529\n",
            "Epoch 7/20\n",
            "600/600 [==============================] - 45s 75ms/step - loss: 0.3793 - accuracy: 0.8559\n",
            "Epoch 8/20\n",
            "600/600 [==============================] - 45s 74ms/step - loss: 0.3590 - accuracy: 0.8639\n",
            "Epoch 9/20\n",
            "600/600 [==============================] - 45s 75ms/step - loss: 0.3489 - accuracy: 0.8683\n",
            "Epoch 10/20\n",
            "600/600 [==============================] - 45s 75ms/step - loss: 0.3603 - accuracy: 0.8686\n",
            "Epoch 11/20\n",
            "600/600 [==============================] - 45s 75ms/step - loss: 0.3403 - accuracy: 0.8709\n",
            "Epoch 12/20\n",
            "600/600 [==============================] - 46s 77ms/step - loss: 0.3239 - accuracy: 0.8770\n",
            "Epoch 13/20\n",
            "600/600 [==============================] - 45s 75ms/step - loss: 0.3188 - accuracy: 0.8784\n",
            "Epoch 14/20\n",
            "600/600 [==============================] - 44s 74ms/step - loss: 0.3163 - accuracy: 0.8795\n",
            "Epoch 15/20\n",
            "600/600 [==============================] - 45s 74ms/step - loss: 0.3110 - accuracy: 0.8824\n",
            "Epoch 16/20\n",
            "600/600 [==============================] - 45s 76ms/step - loss: 0.2992 - accuracy: 0.8849\n",
            "Epoch 17/20\n",
            "600/600 [==============================] - 44s 73ms/step - loss: 0.2997 - accuracy: 0.8862\n",
            "Epoch 18/20\n",
            "600/600 [==============================] - 45s 75ms/step - loss: 0.3008 - accuracy: 0.8860\n",
            "Epoch 19/20\n",
            "600/600 [==============================] - 45s 74ms/step - loss: 0.2868 - accuracy: 0.8914\n",
            "Epoch 20/20\n",
            "600/600 [==============================] - 45s 75ms/step - loss: 0.2817 - accuracy: 0.8932\n"
          ]
        },
        {
          "output_type": "execute_result",
          "data": {
            "text/plain": [
              "<keras.callbacks.History at 0x7fbf156a10a0>"
            ]
          },
          "metadata": {},
          "execution_count": 9
        }
      ]
    },
    {
      "cell_type": "code",
      "source": [
        "modelLSTM.evaluate(xtest,ytest)"
      ],
      "metadata": {
        "colab": {
          "base_uri": "https://localhost:8080/"
        },
        "id": "19rrnwOZJqIq",
        "outputId": "1916e5a7-a225-4b69-c7b8-a75d95b208d9"
      },
      "execution_count": null,
      "outputs": [
        {
          "output_type": "stream",
          "name": "stdout",
          "text": [
            "313/313 [==============================] - 5s 15ms/step - loss: 0.3006 - accuracy: 0.8895\n"
          ]
        },
        {
          "output_type": "execute_result",
          "data": {
            "text/plain": [
              "[0.30062997341156006, 0.8895000219345093]"
            ]
          },
          "metadata": {},
          "execution_count": 10
        }
      ]
    },
    {
      "cell_type": "code",
      "source": [
        "\n",
        "modelGL = keras.models.Sequential()\n",
        "modelGL.add(keras.Input(shape=(28,28)))\n",
        "modelGL.add(keras.layers.LSTM(units=128,return_sequences=True, activation='relu', dropout=.2))\n",
        "modelGL.add(keras.layers.GRU(units=128,return_sequences=True, activation='relu', dropout=.2))\n",
        "modelGL.add(keras.layers.LSTM(units=128,return_sequences=True, activation='relu', dropout=.2))\n",
        "modelGL.add(keras.layers.GRU(units=128,return_sequences=False, activation='relu', dropout=.2))\n",
        "modelGL.add(keras.layers.Dense(10))\n",
        "\n",
        "print(modelGL.summary())"
      ],
      "metadata": {
        "colab": {
          "base_uri": "https://localhost:8080/"
        },
        "id": "zPCxp4-2VRja",
        "outputId": "2957ab42-905d-4501-ee41-122750257876"
      },
      "execution_count": null,
      "outputs": [
        {
          "output_type": "stream",
          "name": "stderr",
          "text": [
            "WARNING:tensorflow:Layer lstm_3 will not use cuDNN kernels since it doesn't meet the criteria. It will use a generic GPU kernel as fallback when running on GPU.\n",
            "WARNING:tensorflow:Layer gru_3 will not use cuDNN kernels since it doesn't meet the criteria. It will use a generic GPU kernel as fallback when running on GPU.\n",
            "WARNING:tensorflow:Layer lstm_4 will not use cuDNN kernels since it doesn't meet the criteria. It will use a generic GPU kernel as fallback when running on GPU.\n",
            "WARNING:tensorflow:Layer gru_4 will not use cuDNN kernels since it doesn't meet the criteria. It will use a generic GPU kernel as fallback when running on GPU.\n"
          ]
        },
        {
          "output_type": "stream",
          "name": "stdout",
          "text": [
            "Model: \"sequential_2\"\n",
            "_________________________________________________________________\n",
            " Layer (type)                Output Shape              Param #   \n",
            "=================================================================\n",
            " lstm_3 (LSTM)               (None, 28, 128)           80384     \n",
            "                                                                 \n",
            " gru_3 (GRU)                 (None, 28, 128)           99072     \n",
            "                                                                 \n",
            " lstm_4 (LSTM)               (None, 28, 128)           131584    \n",
            "                                                                 \n",
            " gru_4 (GRU)                 (None, 128)               99072     \n",
            "                                                                 \n",
            " dense_2 (Dense)             (None, 10)                1290      \n",
            "                                                                 \n",
            "=================================================================\n",
            "Total params: 411,402\n",
            "Trainable params: 411,402\n",
            "Non-trainable params: 0\n",
            "_________________________________________________________________\n",
            "None\n"
          ]
        }
      ]
    },
    {
      "cell_type": "code",
      "source": [
        "modelGRU.compile(loss=loss,optimizer=opt,metrics= metrics)"
      ],
      "metadata": {
        "id": "dCKwar5AxgSk"
      },
      "execution_count": null,
      "outputs": []
    },
    {
      "cell_type": "code",
      "source": [
        "modelLSTM.fit(xtrain, ytrain, batch_size=batchSize, epochs=epochs)"
      ],
      "metadata": {
        "colab": {
          "base_uri": "https://localhost:8080/"
        },
        "id": "vfNBC85pxkzj",
        "outputId": "07c34a40-4056-4785-a8f5-6e8d64d8ed3b"
      },
      "execution_count": null,
      "outputs": [
        {
          "output_type": "stream",
          "name": "stdout",
          "text": [
            "Epoch 1/20\n",
            "600/600 [==============================] - 44s 74ms/step - loss: 0.2813 - accuracy: 0.8921\n",
            "Epoch 2/20\n",
            "600/600 [==============================] - 45s 74ms/step - loss: 0.2750 - accuracy: 0.8953\n",
            "Epoch 3/20\n",
            "600/600 [==============================] - 46s 76ms/step - loss: 0.2726 - accuracy: 0.8963\n",
            "Epoch 4/20\n",
            "600/600 [==============================] - 44s 73ms/step - loss: 0.3992 - accuracy: 0.8817\n",
            "Epoch 5/20\n",
            "600/600 [==============================] - 44s 74ms/step - loss: 0.3075 - accuracy: 0.8838\n",
            "Epoch 6/20\n",
            "600/600 [==============================] - 44s 73ms/step - loss: 0.2922 - accuracy: 0.8903\n",
            "Epoch 7/20\n",
            "600/600 [==============================] - 46s 76ms/step - loss: 0.2765 - accuracy: 0.8946\n",
            "Epoch 8/20\n",
            "600/600 [==============================] - 45s 74ms/step - loss: 0.2706 - accuracy: 0.8963\n",
            "Epoch 9/20\n",
            "600/600 [==============================] - 44s 73ms/step - loss: 0.2648 - accuracy: 0.8995\n",
            "Epoch 10/20\n",
            "600/600 [==============================] - 45s 75ms/step - loss: 0.2641 - accuracy: 0.8980\n",
            "Epoch 11/20\n",
            "600/600 [==============================] - 45s 76ms/step - loss: 0.2588 - accuracy: 0.9014\n",
            "Epoch 12/20\n",
            "600/600 [==============================] - 44s 73ms/step - loss: 0.2558 - accuracy: 0.9020\n",
            "Epoch 13/20\n",
            "600/600 [==============================] - 45s 75ms/step - loss: 0.2529 - accuracy: 0.9025\n",
            "Epoch 14/20\n",
            "600/600 [==============================] - 45s 75ms/step - loss: 0.2668 - accuracy: 0.8982\n",
            "Epoch 15/20\n",
            "600/600 [==============================] - 45s 74ms/step - loss: 0.2514 - accuracy: 0.9030\n",
            "Epoch 16/20\n",
            "600/600 [==============================] - 45s 74ms/step - loss: 0.2478 - accuracy: 0.9052\n",
            "Epoch 17/20\n",
            "600/600 [==============================] - 44s 74ms/step - loss: 0.2475 - accuracy: 0.9060\n",
            "Epoch 18/20\n",
            "600/600 [==============================] - 45s 75ms/step - loss: 0.2422 - accuracy: 0.9073\n",
            "Epoch 19/20\n",
            "600/600 [==============================] - 45s 75ms/step - loss: 0.2422 - accuracy: 0.9071\n",
            "Epoch 20/20\n",
            "600/600 [==============================] - 44s 73ms/step - loss: 0.2388 - accuracy: 0.9080\n"
          ]
        },
        {
          "output_type": "execute_result",
          "data": {
            "text/plain": [
              "<keras.callbacks.History at 0x7fbf146ce4f0>"
            ]
          },
          "metadata": {},
          "execution_count": 13
        }
      ]
    },
    {
      "cell_type": "code",
      "source": [
        "modelLSTM.evaluate(xtest,ytest)"
      ],
      "metadata": {
        "colab": {
          "base_uri": "https://localhost:8080/"
        },
        "id": "2ngmIDqRxn14",
        "outputId": "5cfd8042-98b3-4cd5-dd29-10fcf33977d5"
      },
      "execution_count": null,
      "outputs": [
        {
          "output_type": "stream",
          "name": "stdout",
          "text": [
            "313/313 [==============================] - 5s 15ms/step - loss: 0.2674 - accuracy: 0.8995\n"
          ]
        },
        {
          "output_type": "execute_result",
          "data": {
            "text/plain": [
              "[0.26735129952430725, 0.8995000123977661]"
            ]
          },
          "metadata": {},
          "execution_count": 14
        }
      ]
    },
    {
      "cell_type": "code",
      "source": [],
      "metadata": {
        "id": "0bMSFJzGxq6T"
      },
      "execution_count": null,
      "outputs": []
    }
  ]
}